{
 "cells": [
  {
   "cell_type": "markdown",
   "id": "9dd07afd",
   "metadata": {},
   "source": [
    "# ***Data Processing***"
   ]
  },
  {
   "cell_type": "markdown",
   "id": "95c038d3",
   "metadata": {},
   "source": [
    "## Import Libs"
   ]
  },
  {
   "cell_type": "code",
   "execution_count": 1,
   "id": "2a7d82a9",
   "metadata": {
    "execution": {
     "iopub.execute_input": "2025-08-23T06:18:20.378389Z",
     "iopub.status.busy": "2025-08-23T06:18:20.378087Z",
     "iopub.status.idle": "2025-08-23T06:18:23.414431Z",
     "shell.execute_reply": "2025-08-23T06:18:23.413545Z",
     "shell.execute_reply.started": "2025-08-23T06:18:20.378338Z"
    },
    "trusted": true
   },
   "outputs": [],
   "source": [
    "import pandas as pd\n",
    "import unicodedata\n",
    "import re\n",
    "import gc\n",
    "from tqdm import tqdm\n",
    "import matplotlib.pyplot as plt"
   ]
  },
  {
   "cell_type": "markdown",
   "id": "bd9ac865",
   "metadata": {},
   "source": [
    "## Load raw data"
   ]
  },
  {
   "cell_type": "code",
   "execution_count": 16,
   "id": "f2942310",
   "metadata": {
    "execution": {
     "iopub.execute_input": "2025-08-23T06:50:30.700627Z",
     "iopub.status.busy": "2025-08-23T06:50:30.700307Z",
     "iopub.status.idle": "2025-08-23T06:51:05.707029Z",
     "shell.execute_reply": "2025-08-23T06:51:05.706224Z",
     "shell.execute_reply.started": "2025-08-23T06:50:30.700602Z"
    },
    "trusted": true
   },
   "outputs": [],
   "source": [
    "train_df = pd.read_csv('/kaggle/input/text-summarization/vnds_train.csv')\n",
    "valid_df = pd.read_csv('/kaggle/input/text-summarization/vnds_validation.csv')\n",
    "test_df = pd.read_csv('/kaggle/input/text-summarization/vnds_test.csv')"
   ]
  },
  {
   "cell_type": "code",
   "execution_count": 4,
   "id": "1324e1b4",
   "metadata": {
    "execution": {
     "iopub.execute_input": "2025-08-23T06:19:29.366945Z",
     "iopub.status.busy": "2025-08-23T06:19:29.366708Z",
     "iopub.status.idle": "2025-08-23T06:19:29.396289Z",
     "shell.execute_reply": "2025-08-23T06:19:29.395645Z",
     "shell.execute_reply.started": "2025-08-23T06:19:29.366924Z"
    },
    "trusted": true
   },
   "outputs": [
    {
     "name": "stdout",
     "output_type": "stream",
     "text": [
      "Train shape: (303686, 4)\n"
     ]
    },
    {
     "data": {
      "text/html": [
       "<div>\n",
       "<style scoped>\n",
       "    .dataframe tbody tr th:only-of-type {\n",
       "        vertical-align: middle;\n",
       "    }\n",
       "\n",
       "    .dataframe tbody tr th {\n",
       "        vertical-align: top;\n",
       "    }\n",
       "\n",
       "    .dataframe thead th {\n",
       "        text-align: right;\n",
       "    }\n",
       "</style>\n",
       "<table border=\"1\" class=\"dataframe\">\n",
       "  <thead>\n",
       "    <tr style=\"text-align: right;\">\n",
       "      <th></th>\n",
       "      <th>guid</th>\n",
       "      <th>title</th>\n",
       "      <th>abstract</th>\n",
       "      <th>article</th>\n",
       "    </tr>\n",
       "  </thead>\n",
       "  <tbody>\n",
       "    <tr>\n",
       "      <th>0</th>\n",
       "      <td>1</td>\n",
       "      <td>Khởi_tố kẻ_trộm hơn 1 tạ thóc và hơn 8 triệu đ...</td>\n",
       "      <td>Với bản_tính ham chơi , lười làm , có nhiều ti...</td>\n",
       "      <td>Ngày 27/3 , Cơ_quan Cảnh_sát điều_tra Công_an ...</td>\n",
       "    </tr>\n",
       "    <tr>\n",
       "      <th>1</th>\n",
       "      <td>2</td>\n",
       "      <td>Chặn_đứng 2 nhóm giang_hồ mang hung_khí hỗn_ch...</td>\n",
       "      <td>Mâu_thuẫn từ trước đó , 2 nhóm thanh_niên với ...</td>\n",
       "      <td>VTC News đưa tin , khoảng 13h ngày 31/7 , nhận...</td>\n",
       "    </tr>\n",
       "    <tr>\n",
       "      <th>2</th>\n",
       "      <td>3</td>\n",
       "      <td>Tạm giữ hai đối_tượng tháo ốc , sắt trên đường...</td>\n",
       "      <td>Để có tiền mua ma_tuý , tiêu_xài cá_nhân , Nhậ...</td>\n",
       "      <td>Ngày 25/7 , đại_diện Công_an TP. Biên_Hoà ( tỉ...</td>\n",
       "    </tr>\n",
       "    <tr>\n",
       "      <th>3</th>\n",
       "      <td>4</td>\n",
       "      <td>Tạm giam 4 tháng nữ đồng_nghiệp đâm chết nam t...</td>\n",
       "      <td>Trong lúc nói_chuyện , Hậu đã tức_giận cầm con...</td>\n",
       "      <td>Sáng 21/2 , thông_tin từ cơ_quan CSĐT Công_an ...</td>\n",
       "    </tr>\n",
       "    <tr>\n",
       "      <th>4</th>\n",
       "      <td>5</td>\n",
       "      <td>Xế hộp tiền tỷ bỗng_dưng \" bốc_hơi \" tại chung...</td>\n",
       "      <td>Xuống nhà_xe chung_cư Hà_Đô lấy xe , một người...</td>\n",
       "      <td>Theo báo Sài_Gòn Giải_Phóng , ngày 17/3 , Công...</td>\n",
       "    </tr>\n",
       "  </tbody>\n",
       "</table>\n",
       "</div>"
      ],
      "text/plain": [
       "   guid                                              title  \\\n",
       "0     1  Khởi_tố kẻ_trộm hơn 1 tạ thóc và hơn 8 triệu đ...   \n",
       "1     2  Chặn_đứng 2 nhóm giang_hồ mang hung_khí hỗn_ch...   \n",
       "2     3  Tạm giữ hai đối_tượng tháo ốc , sắt trên đường...   \n",
       "3     4  Tạm giam 4 tháng nữ đồng_nghiệp đâm chết nam t...   \n",
       "4     5  Xế hộp tiền tỷ bỗng_dưng \" bốc_hơi \" tại chung...   \n",
       "\n",
       "                                            abstract  \\\n",
       "0  Với bản_tính ham chơi , lười làm , có nhiều ti...   \n",
       "1  Mâu_thuẫn từ trước đó , 2 nhóm thanh_niên với ...   \n",
       "2  Để có tiền mua ma_tuý , tiêu_xài cá_nhân , Nhậ...   \n",
       "3  Trong lúc nói_chuyện , Hậu đã tức_giận cầm con...   \n",
       "4  Xuống nhà_xe chung_cư Hà_Đô lấy xe , một người...   \n",
       "\n",
       "                                             article  \n",
       "0  Ngày 27/3 , Cơ_quan Cảnh_sát điều_tra Công_an ...  \n",
       "1  VTC News đưa tin , khoảng 13h ngày 31/7 , nhận...  \n",
       "2  Ngày 25/7 , đại_diện Công_an TP. Biên_Hoà ( tỉ...  \n",
       "3  Sáng 21/2 , thông_tin từ cơ_quan CSĐT Công_an ...  \n",
       "4  Theo báo Sài_Gòn Giải_Phóng , ngày 17/3 , Công...  "
      ]
     },
     "execution_count": 4,
     "metadata": {},
     "output_type": "execute_result"
    }
   ],
   "source": [
    "print(f\"Train shape: {train_df.shape}\")\n",
    "train_df.head()"
   ]
  },
  {
   "cell_type": "code",
   "execution_count": 5,
   "id": "757680da",
   "metadata": {
    "execution": {
     "iopub.execute_input": "2025-08-23T06:20:06.509646Z",
     "iopub.status.busy": "2025-08-23T06:20:06.509002Z",
     "iopub.status.idle": "2025-08-23T06:20:06.519184Z",
     "shell.execute_reply": "2025-08-23T06:20:06.518271Z",
     "shell.execute_reply.started": "2025-08-23T06:20:06.509619Z"
    },
    "trusted": true
   },
   "outputs": [
    {
     "name": "stdout",
     "output_type": "stream",
     "text": [
      "Valid shape: (67010, 4)\n"
     ]
    },
    {
     "data": {
      "text/html": [
       "<div>\n",
       "<style scoped>\n",
       "    .dataframe tbody tr th:only-of-type {\n",
       "        vertical-align: middle;\n",
       "    }\n",
       "\n",
       "    .dataframe tbody tr th {\n",
       "        vertical-align: top;\n",
       "    }\n",
       "\n",
       "    .dataframe thead th {\n",
       "        text-align: right;\n",
       "    }\n",
       "</style>\n",
       "<table border=\"1\" class=\"dataframe\">\n",
       "  <thead>\n",
       "    <tr style=\"text-align: right;\">\n",
       "      <th></th>\n",
       "      <th>guid</th>\n",
       "      <th>title</th>\n",
       "      <th>abstract</th>\n",
       "      <th>article</th>\n",
       "    </tr>\n",
       "  </thead>\n",
       "  <tbody>\n",
       "    <tr>\n",
       "      <th>0</th>\n",
       "      <td>1</td>\n",
       "      <td>Khởi_tố , tạm giam hai nhân_viên công_ty Địa_ố...</td>\n",
       "      <td>Viện_kiểm_sát nhân_dân T X.Phú Mỹ , tỉnh Bà_Rị...</td>\n",
       "      <td>Ngày 22/6 , cơ_quan CSĐT Công_an T X.Phú Mỹ đã...</td>\n",
       "    </tr>\n",
       "    <tr>\n",
       "      <th>1</th>\n",
       "      <td>2</td>\n",
       "      <td>Án chung_thân cho đối_tượng giết vợ vì ghen_tuông</td>\n",
       "      <td>Ngày 19/9 , TAND tỉnh Đắk_Nông mở phiên_toà sơ...</td>\n",
       "      <td>Theo cáo_trạng , năm 2013 , Tiến và chị Phạm_T...</td>\n",
       "    </tr>\n",
       "    <tr>\n",
       "      <th>2</th>\n",
       "      <td>3</td>\n",
       "      <td>Phát thông_báo tìm nữ_sinh Nghệ_An xinh_đẹp \" ...</td>\n",
       "      <td>Ngày 26/6 , Công_an huyện Quỳnh_Lưu ( Nghệ_An ...</td>\n",
       "      <td>VOV đưa tin , khoảng 9h sáng ngày 25/6 , em Lê...</td>\n",
       "    </tr>\n",
       "    <tr>\n",
       "      <th>3</th>\n",
       "      <td>4</td>\n",
       "      <td>Bắt đối_tượng nghi \" ngáo đá \" truy_sát 11 ngư...</td>\n",
       "      <td>Lực_lượng công_an ở tỉnh Bạc_Liêu đã khống_chế...</td>\n",
       "      <td>Vào_khoảng 15h ngày 24/7 , Thạch_Sà_Kh . ( SN ...</td>\n",
       "    </tr>\n",
       "    <tr>\n",
       "      <th>4</th>\n",
       "      <td>5</td>\n",
       "      <td>Chủ quán massage bị tuyên 20 năm tù vì đấm khá...</td>\n",
       "      <td>Nguyễn_Văn_Tiến ( 33 tuổi , quê Ninh_Bình ) nh...</td>\n",
       "      <td>Báo Công_Lý đưa tin , ngày 24/12 , TAND TP. Hà...</td>\n",
       "    </tr>\n",
       "  </tbody>\n",
       "</table>\n",
       "</div>"
      ],
      "text/plain": [
       "   guid                                              title  \\\n",
       "0     1  Khởi_tố , tạm giam hai nhân_viên công_ty Địa_ố...   \n",
       "1     2  Án chung_thân cho đối_tượng giết vợ vì ghen_tuông   \n",
       "2     3  Phát thông_báo tìm nữ_sinh Nghệ_An xinh_đẹp \" ...   \n",
       "3     4  Bắt đối_tượng nghi \" ngáo đá \" truy_sát 11 ngư...   \n",
       "4     5  Chủ quán massage bị tuyên 20 năm tù vì đấm khá...   \n",
       "\n",
       "                                            abstract  \\\n",
       "0  Viện_kiểm_sát nhân_dân T X.Phú Mỹ , tỉnh Bà_Rị...   \n",
       "1  Ngày 19/9 , TAND tỉnh Đắk_Nông mở phiên_toà sơ...   \n",
       "2  Ngày 26/6 , Công_an huyện Quỳnh_Lưu ( Nghệ_An ...   \n",
       "3  Lực_lượng công_an ở tỉnh Bạc_Liêu đã khống_chế...   \n",
       "4  Nguyễn_Văn_Tiến ( 33 tuổi , quê Ninh_Bình ) nh...   \n",
       "\n",
       "                                             article  \n",
       "0  Ngày 22/6 , cơ_quan CSĐT Công_an T X.Phú Mỹ đã...  \n",
       "1  Theo cáo_trạng , năm 2013 , Tiến và chị Phạm_T...  \n",
       "2  VOV đưa tin , khoảng 9h sáng ngày 25/6 , em Lê...  \n",
       "3  Vào_khoảng 15h ngày 24/7 , Thạch_Sà_Kh . ( SN ...  \n",
       "4  Báo Công_Lý đưa tin , ngày 24/12 , TAND TP. Hà...  "
      ]
     },
     "execution_count": 5,
     "metadata": {},
     "output_type": "execute_result"
    }
   ],
   "source": [
    "print(f\"Valid shape: {valid_df.shape}\")\n",
    "valid_df.head()"
   ]
  },
  {
   "cell_type": "code",
   "execution_count": 6,
   "id": "cef1c957",
   "metadata": {
    "execution": {
     "iopub.execute_input": "2025-08-23T06:20:09.441080Z",
     "iopub.status.busy": "2025-08-23T06:20:09.440525Z",
     "iopub.status.idle": "2025-08-23T06:20:09.450622Z",
     "shell.execute_reply": "2025-08-23T06:20:09.449772Z",
     "shell.execute_reply.started": "2025-08-23T06:20:09.441053Z"
    },
    "trusted": true
   },
   "outputs": [
    {
     "name": "stdout",
     "output_type": "stream",
     "text": [
      "Test shape: (67640, 4)\n"
     ]
    },
    {
     "data": {
      "text/html": [
       "<div>\n",
       "<style scoped>\n",
       "    .dataframe tbody tr th:only-of-type {\n",
       "        vertical-align: middle;\n",
       "    }\n",
       "\n",
       "    .dataframe tbody tr th {\n",
       "        vertical-align: top;\n",
       "    }\n",
       "\n",
       "    .dataframe thead th {\n",
       "        text-align: right;\n",
       "    }\n",
       "</style>\n",
       "<table border=\"1\" class=\"dataframe\">\n",
       "  <thead>\n",
       "    <tr style=\"text-align: right;\">\n",
       "      <th></th>\n",
       "      <th>guid</th>\n",
       "      <th>title</th>\n",
       "      <th>abstract</th>\n",
       "      <th>article</th>\n",
       "    </tr>\n",
       "  </thead>\n",
       "  <tbody>\n",
       "    <tr>\n",
       "      <th>0</th>\n",
       "      <td>1</td>\n",
       "      <td>Bản_án cho đối_tượng giả_danh công_an để lừa_đảo</td>\n",
       "      <td>Ngày 25/2 , TAND TP. Đà_Nẵng tuyên_phạt Hồ_Xuâ...</td>\n",
       "      <td>Theo lời khai của Huy tại phiên_toà , để có ti...</td>\n",
       "    </tr>\n",
       "    <tr>\n",
       "      <th>1</th>\n",
       "      <td>2</td>\n",
       "      <td>Nam thanh_niên thủ_dâm trên xe_buýt từng bị xử...</td>\n",
       "      <td>Phát_hiện nam thanh_niên đang thủ_dâm trên xe_...</td>\n",
       "      <td>Tối 27/6 báo Người Lao_Động đưa tin , một lãnh...</td>\n",
       "    </tr>\n",
       "    <tr>\n",
       "      <th>2</th>\n",
       "      <td>3</td>\n",
       "      <td>Không được công_nhận , thuốc \" sinh con theo ý...</td>\n",
       "      <td>\" Baby_Support \" và \" Hello baby \" là hai cái ...</td>\n",
       "      <td>Quảng_cáo như thần_dược Trên diễn_đàn của các ...</td>\n",
       "    </tr>\n",
       "    <tr>\n",
       "      <th>3</th>\n",
       "      <td>4</td>\n",
       "      <td>VEC từ_chối phục_vụ vĩnh_viễn 2 ô_tô gây_rối t...</td>\n",
       "      <td>Liên_quan đến vụ gây_rối tại trạm thu phí trên...</td>\n",
       "      <td>Như báo Người Đưa_Tin đã phản_ánh trước đó , T...</td>\n",
       "    </tr>\n",
       "    <tr>\n",
       "      <th>4</th>\n",
       "      <td>5</td>\n",
       "      <td>VKSND tỉnh Sóc_Trăng xin_lỗi oan sai \" nữ_hoàn...</td>\n",
       "      <td>Bà Huỳnh_Ngọc_Bích được mọi người biết đến là ...</td>\n",
       "      <td>Sáng 28/5 , VKSND tỉnh Sóc_Trăng tổ_chức buổi ...</td>\n",
       "    </tr>\n",
       "  </tbody>\n",
       "</table>\n",
       "</div>"
      ],
      "text/plain": [
       "   guid                                              title  \\\n",
       "0     1   Bản_án cho đối_tượng giả_danh công_an để lừa_đảo   \n",
       "1     2  Nam thanh_niên thủ_dâm trên xe_buýt từng bị xử...   \n",
       "2     3  Không được công_nhận , thuốc \" sinh con theo ý...   \n",
       "3     4  VEC từ_chối phục_vụ vĩnh_viễn 2 ô_tô gây_rối t...   \n",
       "4     5  VKSND tỉnh Sóc_Trăng xin_lỗi oan sai \" nữ_hoàn...   \n",
       "\n",
       "                                            abstract  \\\n",
       "0  Ngày 25/2 , TAND TP. Đà_Nẵng tuyên_phạt Hồ_Xuâ...   \n",
       "1  Phát_hiện nam thanh_niên đang thủ_dâm trên xe_...   \n",
       "2  \" Baby_Support \" và \" Hello baby \" là hai cái ...   \n",
       "3  Liên_quan đến vụ gây_rối tại trạm thu phí trên...   \n",
       "4  Bà Huỳnh_Ngọc_Bích được mọi người biết đến là ...   \n",
       "\n",
       "                                             article  \n",
       "0  Theo lời khai của Huy tại phiên_toà , để có ti...  \n",
       "1  Tối 27/6 báo Người Lao_Động đưa tin , một lãnh...  \n",
       "2  Quảng_cáo như thần_dược Trên diễn_đàn của các ...  \n",
       "3  Như báo Người Đưa_Tin đã phản_ánh trước đó , T...  \n",
       "4  Sáng 28/5 , VKSND tỉnh Sóc_Trăng tổ_chức buổi ...  "
      ]
     },
     "execution_count": 6,
     "metadata": {},
     "output_type": "execute_result"
    }
   ],
   "source": [
    "print(f\"Test shape: {test_df.shape}\")\n",
    "test_df.head()"
   ]
  },
  {
   "cell_type": "code",
   "execution_count": 7,
   "id": "2b695075",
   "metadata": {
    "execution": {
     "iopub.execute_input": "2025-08-23T06:20:31.694651Z",
     "iopub.status.busy": "2025-08-23T06:20:31.694283Z",
     "iopub.status.idle": "2025-08-23T06:20:31.876011Z",
     "shell.execute_reply": "2025-08-23T06:20:31.875260Z",
     "shell.execute_reply.started": "2025-08-23T06:20:31.694625Z"
    },
    "trusted": true
   },
   "outputs": [
    {
     "name": "stdout",
     "output_type": "stream",
     "text": [
      "Train: \n",
      "guid        0\n",
      "title       0\n",
      "abstract    0\n",
      "article     0\n",
      "dtype: int64\n",
      "--------------------\n",
      "Valid: \n",
      "guid        0\n",
      "title       0\n",
      "abstract    0\n",
      "article     0\n",
      "dtype: int64\n",
      "--------------------\n",
      "Test: \n",
      "guid        0\n",
      "title       3\n",
      "abstract    0\n",
      "article     0\n",
      "dtype: int64\n"
     ]
    }
   ],
   "source": [
    "print(f\"Train: \\n{train_df.isna().sum()}\")\n",
    "print(\"-\" * 20)\n",
    "print(f\"Valid: \\n{valid_df.isna().sum()}\")\n",
    "print(\"-\" * 20)\n",
    "print(f\"Test: \\n{test_df.isna().sum()}\")"
   ]
  },
  {
   "cell_type": "code",
   "execution_count": 18,
   "id": "7f37cc44",
   "metadata": {
    "execution": {
     "iopub.execute_input": "2025-08-23T06:51:46.812007Z",
     "iopub.status.busy": "2025-08-23T06:51:46.811244Z",
     "iopub.status.idle": "2025-08-23T06:51:46.900106Z",
     "shell.execute_reply": "2025-08-23T06:51:46.899233Z",
     "shell.execute_reply.started": "2025-08-23T06:51:46.811969Z"
    },
    "trusted": true
   },
   "outputs": [],
   "source": [
    "def fix(df):\n",
    "    df = df[['abstract', 'article']].rename(columns={\n",
    "        'abstract': 'summary',\n",
    "        'article': 'content'\n",
    "    })\n",
    "    return df\n",
    "train_df = fix(train_df)\n",
    "valid_df = fix(valid_df)\n",
    "test_df = fix(test_df)"
   ]
  },
  {
   "cell_type": "code",
   "execution_count": 9,
   "id": "a0954479",
   "metadata": {
    "execution": {
     "iopub.execute_input": "2025-08-23T06:21:27.220119Z",
     "iopub.status.busy": "2025-08-23T06:21:27.219728Z",
     "iopub.status.idle": "2025-08-23T06:21:27.230714Z",
     "shell.execute_reply": "2025-08-23T06:21:27.229475Z",
     "shell.execute_reply.started": "2025-08-23T06:21:27.220088Z"
    },
    "trusted": true
   },
   "outputs": [
    {
     "data": {
      "text/html": [
       "<div>\n",
       "<style scoped>\n",
       "    .dataframe tbody tr th:only-of-type {\n",
       "        vertical-align: middle;\n",
       "    }\n",
       "\n",
       "    .dataframe tbody tr th {\n",
       "        vertical-align: top;\n",
       "    }\n",
       "\n",
       "    .dataframe thead th {\n",
       "        text-align: right;\n",
       "    }\n",
       "</style>\n",
       "<table border=\"1\" class=\"dataframe\">\n",
       "  <thead>\n",
       "    <tr style=\"text-align: right;\">\n",
       "      <th></th>\n",
       "      <th>summary</th>\n",
       "      <th>content</th>\n",
       "    </tr>\n",
       "  </thead>\n",
       "  <tbody>\n",
       "    <tr>\n",
       "      <th>0</th>\n",
       "      <td>Với bản_tính ham chơi , lười làm , có nhiều ti...</td>\n",
       "      <td>Ngày 27/3 , Cơ_quan Cảnh_sát điều_tra Công_an ...</td>\n",
       "    </tr>\n",
       "    <tr>\n",
       "      <th>1</th>\n",
       "      <td>Mâu_thuẫn từ trước đó , 2 nhóm thanh_niên với ...</td>\n",
       "      <td>VTC News đưa tin , khoảng 13h ngày 31/7 , nhận...</td>\n",
       "    </tr>\n",
       "    <tr>\n",
       "      <th>2</th>\n",
       "      <td>Để có tiền mua ma_tuý , tiêu_xài cá_nhân , Nhậ...</td>\n",
       "      <td>Ngày 25/7 , đại_diện Công_an TP. Biên_Hoà ( tỉ...</td>\n",
       "    </tr>\n",
       "    <tr>\n",
       "      <th>3</th>\n",
       "      <td>Trong lúc nói_chuyện , Hậu đã tức_giận cầm con...</td>\n",
       "      <td>Sáng 21/2 , thông_tin từ cơ_quan CSĐT Công_an ...</td>\n",
       "    </tr>\n",
       "    <tr>\n",
       "      <th>4</th>\n",
       "      <td>Xuống nhà_xe chung_cư Hà_Đô lấy xe , một người...</td>\n",
       "      <td>Theo báo Sài_Gòn Giải_Phóng , ngày 17/3 , Công...</td>\n",
       "    </tr>\n",
       "  </tbody>\n",
       "</table>\n",
       "</div>"
      ],
      "text/plain": [
       "                                             summary  \\\n",
       "0  Với bản_tính ham chơi , lười làm , có nhiều ti...   \n",
       "1  Mâu_thuẫn từ trước đó , 2 nhóm thanh_niên với ...   \n",
       "2  Để có tiền mua ma_tuý , tiêu_xài cá_nhân , Nhậ...   \n",
       "3  Trong lúc nói_chuyện , Hậu đã tức_giận cầm con...   \n",
       "4  Xuống nhà_xe chung_cư Hà_Đô lấy xe , một người...   \n",
       "\n",
       "                                             content  \n",
       "0  Ngày 27/3 , Cơ_quan Cảnh_sát điều_tra Công_an ...  \n",
       "1  VTC News đưa tin , khoảng 13h ngày 31/7 , nhận...  \n",
       "2  Ngày 25/7 , đại_diện Công_an TP. Biên_Hoà ( tỉ...  \n",
       "3  Sáng 21/2 , thông_tin từ cơ_quan CSĐT Công_an ...  \n",
       "4  Theo báo Sài_Gòn Giải_Phóng , ngày 17/3 , Công...  "
      ]
     },
     "execution_count": 9,
     "metadata": {},
     "output_type": "execute_result"
    }
   ],
   "source": [
    "train_df.head()"
   ]
  },
  {
   "cell_type": "markdown",
   "id": "21d66ec7",
   "metadata": {},
   "source": [
    "## Clean Text"
   ]
  },
  {
   "cell_type": "code",
   "execution_count": 14,
   "id": "e3456daf",
   "metadata": {
    "execution": {
     "iopub.execute_input": "2025-08-23T06:33:12.293361Z",
     "iopub.status.busy": "2025-08-23T06:33:12.293055Z",
     "iopub.status.idle": "2025-08-23T06:33:12.305150Z",
     "shell.execute_reply": "2025-08-23T06:33:12.304325Z",
     "shell.execute_reply.started": "2025-08-23T06:33:12.293338Z"
    },
    "trusted": true
   },
   "outputs": [
    {
     "name": "stdout",
     "output_type": "stream",
     "text": [
      "Origin:   ĐÂY LÀ     MỘT    VÍ DỤ…!!! “Hello” – bạn ổn chứ???  \n",
      "Clean: đây là một ví dụ.! \"hello\" - bạn ổn chứ?\n",
      "--------------------\n",
      "Origin: Tốc độ là 60km/h và độ dài là 20m.\n",
      "Clean: tốc độ là 60 km/h và độ dài là 20 m.\n",
      "--------------------\n",
      "Origin: Đây là một loại – dash đặc biệt ‒ hay —\n",
      "Clean: đây là một loại - dash đặc biệt - hay -\n",
      "--------------------\n",
      "Origin: Nhiệt độ là 25°C, ánh sáng 300nits, tần số 20kHz và độ ẩm 90%.\n",
      "Clean: nhiệt độ là 25 °c, ánh sáng 300 nits, tần số 20 khz và độ ẩm 90 %.\n",
      "--------------------\n",
      "Origin: Thật là sốc......!!!!\n",
      "Clean: thật là sốc.!\n",
      "--------------------\n",
      "Origin: Khối lượng 5kg, dung tích 1.5l, công suất 500w.\n",
      "Clean: khối lượng 5 kg, dung tích 1.5 l, công suất 500 w.\n",
      "--------------------\n",
      "Origin: Tôi chạy được 10km/h trong 1h.\n",
      "Clean: tôi chạy được 10 km/h trong 1h.\n",
      "--------------------\n",
      "Origin: Áp suất tiêu chuẩn là 1atm và nhiệt độ là 20 độ C.\n",
      "Clean: áp suất tiêu chuẩn là 1atm và nhiệt độ là 20 độ c.\n",
      "--------------------\n",
      "Origin: Thời gian 3h30p, tốc độ quay 60rpm.\n",
      "Clean: thời gian 3h30, tốc độ quay 60 rpm.\n",
      "--------------------\n"
     ]
    }
   ],
   "source": [
    "def clean_text(text):\n",
    "    text = unicodedata.normalize('NFC', text)\n",
    "    text = text.lower()\n",
    "    text = text.replace('“', '\"').replace('”', '\"')\n",
    "    text = text.replace('‘', \"'\").replace('’', \"'\")\n",
    "    text = text.replace('`', \"'\")\n",
    "    text = text.replace('…', '.')\n",
    "    text = re.sub(r'([.,?!\\'\"])\\1{1,}', r'\\1', text)\n",
    "    text = re.sub(r'[‐‑‒–—−]', '-', text)\n",
    "    text = re.sub(r'(\\d{1,2})h(\\d{1,2})p\\b', r'\\1h\\2', text)\n",
    "    text = re.sub(r'(\\d{1,2})h(\\d{1,2})\\'\\b', r'\\1h\\2', text)\n",
    "    text = re.sub(r'(\\d{1,2}):(\\d{1,2})\\b', r'\\1h\\2', text)\n",
    "    text = text.replace('-', ' - ')\n",
    "    UNITS = [\n",
    "        \"m\", \"km\", \"cm\", \"mm\", \"μm\",\n",
    "        \"g\", \"kg\", \"mg\", \"lb\",\n",
    "        \"s\", \"ms\", \"μs\", \"ns\",\n",
    "        \"hz\", \"khz\", \"mhz\", \"ghz\",\n",
    "        \"b\", \"kb\", \"mb\", \"gb\", \"tb\",\n",
    "        \"v\", \"w\", \"kw\", \"mah\",\n",
    "        \"°c\", \"°f\", \"l\", \"ml\",\n",
    "        \"nm\", \"lux\", \"rpm\", \"km/h\", \"m/s\", \"nits\", \"%\"\n",
    "    ]\n",
    "    for unit in UNITS:\n",
    "        pattern = rf\"(\\d+(?:[\\.,]\\d+)?){unit}\"\n",
    "        repl = rf\"\\1 {unit}\"\n",
    "        text = re.sub(pattern, repl, text)\n",
    "    text = re.sub(r\"\\s+\", ' ', text)\n",
    "    return text.strip()\n",
    "\n",
    "test_texts = [\n",
    "    \"  ĐÂY LÀ     MỘT    VÍ DỤ…!!! “Hello” – bạn ổn chứ???  \",\n",
    "    \"Tốc độ là 60km/h và độ dài là 20m.\",\n",
    "    \"Đây là một loại – dash đặc biệt ‒ hay —\",\n",
    "    \"Nhiệt độ là 25°C, ánh sáng 300nits, tần số 20kHz và độ ẩm 90%.\",\n",
    "    \"Thật là sốc......!!!!\",\n",
    "    \"Khối lượng 5kg, dung tích 1.5l, công suất 500w.\",\n",
    "    \"Tôi chạy được 10km/h trong 1h.\",\n",
    "    \"Áp suất tiêu chuẩn là 1atm và nhiệt độ là 20 độ C.\",\n",
    "    \"Thời gian 3h30p, tốc độ quay 60rpm.\"\n",
    "]\n",
    "\n",
    "for t in test_texts:\n",
    "    print(f\"Origin: {t}\")\n",
    "    print(f\"Clean: {clean_text(t)}\")\n",
    "    print(\"-\" * 20)\n"
   ]
  },
  {
   "cell_type": "code",
   "execution_count": 19,
   "id": "de6d921e",
   "metadata": {
    "execution": {
     "iopub.execute_input": "2025-08-23T06:51:53.679596Z",
     "iopub.status.busy": "2025-08-23T06:51:53.678858Z",
     "iopub.status.idle": "2025-08-23T07:16:14.178473Z",
     "shell.execute_reply": "2025-08-23T07:16:14.177677Z",
     "shell.execute_reply.started": "2025-08-23T06:51:53.679569Z"
    },
    "trusted": true
   },
   "outputs": [
    {
     "name": "stdout",
     "output_type": "stream",
     "text": [
      "Train df:\n"
     ]
    },
    {
     "name": "stderr",
     "output_type": "stream",
     "text": [
      "100%|██████████| 303686/303686 [15:21<00:00, 329.73it/s]\n",
      "100%|██████████| 303686/303686 [01:27<00:00, 3459.38it/s]\n"
     ]
    },
    {
     "name": "stdout",
     "output_type": "stream",
     "text": [
      "--------------------------------------------------\n",
      "Valid df:\n"
     ]
    },
    {
     "name": "stderr",
     "output_type": "stream",
     "text": [
      "100%|██████████| 67010/67010 [03:25<00:00, 326.64it/s]\n",
      "100%|██████████| 67010/67010 [00:19<00:00, 3445.35it/s]\n"
     ]
    },
    {
     "name": "stdout",
     "output_type": "stream",
     "text": [
      "--------------------------------------------------\n",
      "Test df:\n"
     ]
    },
    {
     "name": "stderr",
     "output_type": "stream",
     "text": [
      "100%|██████████| 67640/67640 [03:27<00:00, 326.25it/s]\n",
      "100%|██████████| 67640/67640 [00:19<00:00, 3445.49it/s]\n"
     ]
    }
   ],
   "source": [
    "tqdm.pandas()\n",
    "print('Train df:')\n",
    "train_df['content'] = train_df['content'].progress_apply(clean_text)\n",
    "train_df['summary'] = train_df['summary'].progress_apply(clean_text)\n",
    "print('-' * 50)\n",
    "\n",
    "print('Valid df:')\n",
    "valid_df['content'] = valid_df['content'].progress_apply(clean_text)\n",
    "valid_df['summary'] = valid_df['summary'].progress_apply(clean_text)\n",
    "print('-' * 50)\n",
    "\n",
    "print('Test df:')\n",
    "test_df['content'] = test_df['content'].progress_apply(clean_text)\n",
    "test_df['summary'] = test_df['summary'].progress_apply(clean_text)"
   ]
  },
  {
   "cell_type": "code",
   "execution_count": 20,
   "id": "2e34f6d4",
   "metadata": {
    "execution": {
     "iopub.execute_input": "2025-08-23T07:20:31.702201Z",
     "iopub.status.busy": "2025-08-23T07:20:31.701894Z",
     "iopub.status.idle": "2025-08-23T07:20:31.711105Z",
     "shell.execute_reply": "2025-08-23T07:20:31.710287Z",
     "shell.execute_reply.started": "2025-08-23T07:20:31.702178Z"
    },
    "trusted": true
   },
   "outputs": [
    {
     "data": {
      "text/html": [
       "<div>\n",
       "<style scoped>\n",
       "    .dataframe tbody tr th:only-of-type {\n",
       "        vertical-align: middle;\n",
       "    }\n",
       "\n",
       "    .dataframe tbody tr th {\n",
       "        vertical-align: top;\n",
       "    }\n",
       "\n",
       "    .dataframe thead th {\n",
       "        text-align: right;\n",
       "    }\n",
       "</style>\n",
       "<table border=\"1\" class=\"dataframe\">\n",
       "  <thead>\n",
       "    <tr style=\"text-align: right;\">\n",
       "      <th></th>\n",
       "      <th>summary</th>\n",
       "      <th>content</th>\n",
       "    </tr>\n",
       "  </thead>\n",
       "  <tbody>\n",
       "    <tr>\n",
       "      <th>0</th>\n",
       "      <td>với bản_tính ham chơi , lười làm , có nhiều ti...</td>\n",
       "      <td>ngày 27/3 , cơ_quan cảnh_sát điều_tra công_an ...</td>\n",
       "    </tr>\n",
       "    <tr>\n",
       "      <th>1</th>\n",
       "      <td>mâu_thuẫn từ trước đó , 2 nhóm thanh_niên với ...</td>\n",
       "      <td>vtc news đưa tin , khoảng 13h ngày 31/7 , nhận...</td>\n",
       "    </tr>\n",
       "    <tr>\n",
       "      <th>2</th>\n",
       "      <td>để có tiền mua ma_tuý , tiêu_xài cá_nhân , nhậ...</td>\n",
       "      <td>ngày 25/7 , đại_diện công_an tp. biên_hoà ( tỉ...</td>\n",
       "    </tr>\n",
       "    <tr>\n",
       "      <th>3</th>\n",
       "      <td>trong lúc nói_chuyện , hậu đã tức_giận cầm con...</td>\n",
       "      <td>sáng 21/2 , thông_tin từ cơ_quan csđt công_an ...</td>\n",
       "    </tr>\n",
       "    <tr>\n",
       "      <th>4</th>\n",
       "      <td>xuống nhà_xe chung_cư hà_đô lấy xe , một người...</td>\n",
       "      <td>theo báo sài_gòn giải_phóng , ngày 17/3 , công...</td>\n",
       "    </tr>\n",
       "  </tbody>\n",
       "</table>\n",
       "</div>"
      ],
      "text/plain": [
       "                                             summary  \\\n",
       "0  với bản_tính ham chơi , lười làm , có nhiều ti...   \n",
       "1  mâu_thuẫn từ trước đó , 2 nhóm thanh_niên với ...   \n",
       "2  để có tiền mua ma_tuý , tiêu_xài cá_nhân , nhậ...   \n",
       "3  trong lúc nói_chuyện , hậu đã tức_giận cầm con...   \n",
       "4  xuống nhà_xe chung_cư hà_đô lấy xe , một người...   \n",
       "\n",
       "                                             content  \n",
       "0  ngày 27/3 , cơ_quan cảnh_sát điều_tra công_an ...  \n",
       "1  vtc news đưa tin , khoảng 13h ngày 31/7 , nhận...  \n",
       "2  ngày 25/7 , đại_diện công_an tp. biên_hoà ( tỉ...  \n",
       "3  sáng 21/2 , thông_tin từ cơ_quan csđt công_an ...  \n",
       "4  theo báo sài_gòn giải_phóng , ngày 17/3 , công...  "
      ]
     },
     "execution_count": 20,
     "metadata": {},
     "output_type": "execute_result"
    }
   ],
   "source": [
    "train_df.head()"
   ]
  },
  {
   "cell_type": "markdown",
   "id": "6ced4088",
   "metadata": {},
   "source": [
    "## EDA"
   ]
  },
  {
   "cell_type": "code",
   "execution_count": 21,
   "id": "8e0d025d-6291-44e7-bdde-622c28bcddcc",
   "metadata": {
    "execution": {
     "iopub.execute_input": "2025-08-23T07:20:37.643066Z",
     "iopub.status.busy": "2025-08-23T07:20:37.642717Z",
     "iopub.status.idle": "2025-08-23T07:20:37.650284Z",
     "shell.execute_reply": "2025-08-23T07:20:37.649358Z",
     "shell.execute_reply.started": "2025-08-23T07:20:37.643041Z"
    },
    "trusted": true
   },
   "outputs": [
    {
     "name": "stdout",
     "output_type": "stream",
     "text": [
      "['Tổng bí thư Nguyễn Phú Trọng phát biểu lúc 12h49 ngày 1/1/2990 .', '\" Quốc hội khai. mạc phiên họp thứ 2 ! \" .']\n"
     ]
    }
   ],
   "source": [
    "def doc_to_sentences(doc: str) -> list:\n",
    "    parts = re.split(r'\\s([.!?:])(?:\\s+|$)', doc.strip())\n",
    "    parts = [part for part in parts if part]\n",
    "    sentences = []\n",
    "    buffer = ''\n",
    "    for part in parts:\n",
    "        if part.strip() in '.!?\"\\'':\n",
    "            buffer += ' ' + part.strip()\n",
    "        else:\n",
    "            if buffer:\n",
    "                sentences.append(buffer)\n",
    "            buffer = part.strip()\n",
    "    if buffer:\n",
    "        sentences.append(buffer.strip())\n",
    "    return sentences\n",
    "\n",
    "doc_test = 'Tổng bí thư Nguyễn Phú Trọng phát biểu lúc 12h49 ngày 1/1/2990 . \" Quốc hội khai. mạc phiên họp thứ 2 ! \" . '\n",
    "print(doc_to_sentences(doc_test))"
   ]
  },
  {
   "cell_type": "code",
   "execution_count": 25,
   "id": "8b661f34-b084-43b1-9a2b-28213a769e06",
   "metadata": {
    "execution": {
     "iopub.execute_input": "2025-08-23T07:26:49.848917Z",
     "iopub.status.busy": "2025-08-23T07:26:49.848580Z",
     "iopub.status.idle": "2025-08-23T07:26:49.857323Z",
     "shell.execute_reply": "2025-08-23T07:26:49.856312Z",
     "shell.execute_reply.started": "2025-08-23T07:26:49.848889Z"
    },
    "trusted": true
   },
   "outputs": [],
   "source": [
    "def visualize(df, title):\n",
    "    docs = df['content'].apply(doc_to_sentences).tolist()\n",
    "    doc_lengths = [len(doc) for doc in docs]\n",
    "    sent_lengths = [len(sent.split()) for doc in docs for sent in doc]\n",
    "    summary_lengths = [len(summary.split()) for summary in df['summary']]\n",
    "    \n",
    "    fig, axes = plt.subplots(1, 3, figsize=(18, 4))\n",
    "    fig.suptitle(title)\n",
    "\n",
    "    axes[0].hist(doc_lengths, bins=50, color='green')\n",
    "    axes[0].set_title('Doc Lengths')\n",
    "    axes[0].set_xlabel('Number of sentences')\n",
    "    axes[0].set_ylabel('Frequency')\n",
    "\n",
    "    axes[1].hist(sent_lengths, bins=50, color='orange')\n",
    "    axes[1].set_title('Sentence Lengths')\n",
    "    axes[1].set_xlabel('Number of words')\n",
    "    axes[1].set_ylabel('Frequency')\n",
    "\n",
    "    axes[2].hist(summary_lengths, bins=50, color='blue')\n",
    "    axes[2].set_title('Summary Lengths')\n",
    "    axes[2].set_xlabel('Number of words')\n",
    "    axes[2].set_ylabel('Frequency')\n",
    "\n",
    "    plt.tight_layout(rect=[0, 0, 1, 0.95])\n",
    "    plt.show()"
   ]
  },
  {
   "cell_type": "code",
   "execution_count": 27,
   "id": "ecc0b539-dda4-4465-bfa7-c7b8a7970456",
   "metadata": {
    "execution": {
     "iopub.execute_input": "2025-08-23T07:33:05.563131Z",
     "iopub.status.busy": "2025-08-23T07:33:05.562847Z",
     "iopub.status.idle": "2025-08-23T07:33:57.289184Z",
     "shell.execute_reply": "2025-08-23T07:33:57.288299Z",
     "shell.execute_reply.started": "2025-08-23T07:33:05.563111Z"
    },
    "trusted": true
   },
   "outputs": [
    {
     "data": {
      "image/png": "[encoded data removed]",
      "text/plain": [
       "<Figure size 1800x400 with 3 Axes>"
      ]
     },
     "metadata": {},
     "output_type": "display_data"
    }
   ],
   "source": [
    "visualize(train_df, 'Train Data Distribution')"
   ]
  },
  {
   "cell_type": "code",
   "execution_count": 26,
   "id": "0abf6ce1-79ae-48f7-933a-f10f61aaa409",
   "metadata": {
    "execution": {
     "iopub.execute_input": "2025-08-23T07:26:52.944551Z",
     "iopub.status.busy": "2025-08-23T07:26:52.944203Z",
     "iopub.status.idle": "2025-08-23T07:27:05.402488Z",
     "shell.execute_reply": "2025-08-23T07:27:05.401530Z",
     "shell.execute_reply.started": "2025-08-23T07:26:52.944525Z"
    },
    "trusted": true
   },
   "outputs": [
    {
     "data": {
      "image/png": "[encoded data removed]",
      "text/plain": [
       "<Figure size 1800x400 with 3 Axes>"
      ]
     },
     "metadata": {},
     "output_type": "display_data"
    }
   ],
   "source": [
    "visualize(valid_df, 'Valid Data Distribution')"
   ]
  },
  {
   "cell_type": "code",
   "execution_count": 28,
   "id": "d27d8a5f-cf33-4ea5-9178-83607443fcf8",
   "metadata": {
    "execution": {
     "iopub.execute_input": "2025-08-23T07:33:57.310494Z",
     "iopub.status.busy": "2025-08-23T07:33:57.310158Z",
     "iopub.status.idle": "2025-08-23T07:34:09.641424Z",
     "shell.execute_reply": "2025-08-23T07:34:09.640311Z",
     "shell.execute_reply.started": "2025-08-23T07:33:57.310468Z"
    },
    "trusted": true
   },
   "outputs": [
    {
     "data": {
      "image/png": "[encoded data removed]",
      "text/plain": [
       "<Figure size 1800x400 with 3 Axes>"
      ]
     },
     "metadata": {},
     "output_type": "display_data"
    }
   ],
   "source": [
    "visualize(test_df, 'Test Data Distribution')"
   ]
  },
  {
   "cell_type": "markdown",
   "id": "c143a6e7",
   "metadata": {},
   "source": [
    "## Save"
   ]
  },
  {
   "cell_type": "code",
   "execution_count": 29,
   "id": "d619fc1f",
   "metadata": {
    "execution": {
     "iopub.execute_input": "2025-08-23T08:12:10.273553Z",
     "iopub.status.busy": "2025-08-23T08:12:10.272985Z",
     "iopub.status.idle": "2025-08-23T08:12:59.112145Z",
     "shell.execute_reply": "2025-08-23T08:12:59.111419Z",
     "shell.execute_reply.started": "2025-08-23T08:12:10.273523Z"
    },
    "trusted": true
   },
   "outputs": [],
   "source": [
    "train_df.to_csv('train.csv', index=False)\n",
    "valid_df.to_csv('valid.csv', index=False)\n",
    "test_df.to_csv('test.csv', index=False)"
   ]
  }
 ],
 "metadata": {
  "kaggle": {
   "accelerator": "none",
   "dataSources": [
    {
     "datasetId": 7940313,
     "sourceId": 12706794,
     "sourceType": "datasetVersion"
    }
   ],
   "dockerImageVersionId": 31089,
   "isGpuEnabled": false,
   "isInternetEnabled": true,
   "language": "python",
   "sourceType": "notebook"
  },
  "kernelspec": {
   "display_name": "venv",
   "language": "python",
   "name": "python3"
  },
  "language_info": {
   "codemirror_mode": {
    "name": "ipython",
    "version": 3
   },
   "file_extension": ".py",
   "mimetype": "text/x-python",
   "name": "python",
   "nbconvert_exporter": "python",
   "pygments_lexer": "ipython3",
   "version": "3.11.9"
  }
 },
 "nbformat": 4,
 "nbformat_minor": 5
}
